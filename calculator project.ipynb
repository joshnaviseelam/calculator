{
 "cells": [
  {
   "cell_type": "code",
   "execution_count": 2,
   "id": "525d0f23-e407-4187-b525-b22ed83663d7",
   "metadata": {},
   "outputs": [],
   "source": [
    "import tkinter as tk\n",
    "\n",
    "# Function to update the expression in the entry box\n",
    "def press(num):\n",
    "    current = expression.get()\n",
    "    expression.set(current + str(num))"
   ]
  },
  {
   "cell_type": "code",
   "execution_count": 4,
   "id": "dafc9530-cf61-4d89-9a5b-fc4392c1a615",
   "metadata": {},
   "outputs": [],
   "source": [
    "# Function to evaluate the final expression\n",
    "def equalpress():\n",
    "    try:\n",
    "        total = str(eval(expression.get()))\n",
    "        expression.set(total)\n",
    "    except:\n",
    "        expression.set(\"Error\")"
   ]
  },
  {
   "cell_type": "code",
   "execution_count": 6,
   "id": "f8cd7c84-66b0-4fd3-b6b5-cda5f8ef237a",
   "metadata": {},
   "outputs": [
    {
     "data": {
      "text/plain": [
       "''"
      ]
     },
     "execution_count": 6,
     "metadata": {},
     "output_type": "execute_result"
    }
   ],
   "source": [
    "# Function to clear the contents of the entry box\n",
    "def clear():\n",
    "    expression.set(\"\")\n",
    "\n",
    "# Create the main window\n",
    "root = tk.Tk()\n",
    "root.title(\"Simple Calculator\")\n",
    "root.geometry(\"300x400\")\n",
    "root.resizable(False, False)\n"
   ]
  },
  {
   "cell_type": "code",
   "execution_count": 8,
   "id": "13cbb0ab-bd4f-4505-8f5d-9e775c4f7403",
   "metadata": {},
   "outputs": [],
   "source": [
    "# StringVar to hold the expression\n",
    "expression = tk.StringVar()"
   ]
  },
  {
   "cell_type": "code",
   "execution_count": 10,
   "id": "f507a18e-c990-4639-87e3-6fa47d5a83c3",
   "metadata": {},
   "outputs": [],
   "source": [
    "# Entry widget to display the expression\n",
    "entry = tk.Entry(root, textvariable=expression, font=('Arial', 20), bd=10, insertwidth=2, width=14, borderwidth=4, relief='ridge', justify='right')\n",
    "entry.grid(row=0, column=0, columnspan=4, padx=10, pady=20)\n"
   ]
  },
  {
   "cell_type": "code",
   "execution_count": 12,
   "id": "2d57d719-a6f5-491c-8121-24b82522ce08",
   "metadata": {},
   "outputs": [],
   "source": [
    "# List of button texts in the calculator\n",
    "buttons = [\n",
    "    ('7', 1, 0), ('8', 1, 1), ('9', 1, 2), ('/', 1, 3),\n",
    "    ('4', 2, 0), ('5', 2, 1), ('6', 2, 2), ('*', 2, 3),\n",
    "    ('1', 3, 0), ('2', 3, 1), ('3', 3, 2), ('-', 3, 3),\n",
    "    ('0', 4, 0), ('.', 4, 1), ('=', 4, 2), ('+', 4, 3),\n",
    "    ('C', 5, 0)\n",
    "]"
   ]
  },
  {
   "cell_type": "code",
   "execution_count": 14,
   "id": "d68b72e5-a6b9-4581-84b1-c223136d6d78",
   "metadata": {},
   "outputs": [],
   "source": [
    "# Create and place the buttons on the grid\n",
    "for (text, row, col) in buttons:\n",
    "    if text == '=':\n",
    "        btn = tk.Button(root, text=text, padx=20, pady=20, font=('Arial', 18), command=equalpress)\n",
    "    elif text == 'C':\n",
    "        btn = tk.Button(root, text=text, padx=20, pady=20, font=('Arial', 18), command=clear)\n",
    "        btn.grid(row=row, column=col, columnspan=4, sticky='we')\n",
    "        continue\n",
    "    else:\n",
    "        btn = tk.Button(root, text=text, padx=20, pady=20, font=('Arial', 18), command=lambda t=text: press(t))\n",
    "    btn.grid(row=row, column=col)\n"
   ]
  },
  {
   "cell_type": "code",
   "execution_count": 16,
   "id": "7bd6fa78-9f26-4564-8096-42a06007f04d",
   "metadata": {},
   "outputs": [],
   "source": [
    "# Start the GUI event loop\n",
    "root.mainloop()"
   ]
  },
  {
   "cell_type": "code",
   "execution_count": null,
   "id": "efe9411f-4d9f-4d72-83df-cdbdc998153a",
   "metadata": {},
   "outputs": [],
   "source": []
  }
 ],
 "metadata": {
  "kernelspec": {
   "display_name": "Python [conda env:base] *",
   "language": "python",
   "name": "conda-base-py"
  },
  "language_info": {
   "codemirror_mode": {
    "name": "ipython",
    "version": 3
   },
   "file_extension": ".py",
   "mimetype": "text/x-python",
   "name": "python",
   "nbconvert_exporter": "python",
   "pygments_lexer": "ipython3",
   "version": "3.12.7"
  }
 },
 "nbformat": 4,
 "nbformat_minor": 5
}
